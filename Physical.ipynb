{
 "cells": [
  {
   "cell_type": "markdown",
   "metadata": {
    "collapsed": false
   },
   "source": [
    "<h3>Lab 10</h3>\n",
    "\n",
    "## Let's get Physical!\n",
    "\n",
    "<div>\n",
    "    <img src=\"physical_activity_qfacts.png\" width=400><br><br>\n",
    "</div>\n",
    "\n",
    "\n",
    "In this lab we will investigate some relationships between health risk factors using data from the Australian Government's *[Australian Institute of Health and Welfare](https://www.aihw.gov.au)*. (AIHW)\n",
    "\n",
    "_Note: This is a shorter lab to finish up with and has a different due date to other labs._\n"
   ]
  },
  {
   "cell_type": "markdown",
   "metadata": {
    "collapsed": false
   },
   "source": [
    "## Data acquisition and cleaning\n",
    "\n",
    "Go to the AIHW website and navigate to Reports and Data > Behaviours and Risk factors. Notice that this site provides a range of information on the relationship between behaviours, such as smoking or physical activity, and health risk.\n",
    "\n",
    "Follow the link to Risk Factors > Reports. Scroll down to \"Risk factors to health\" (2017) and open the report.\n",
    "\n",
    "Here you will find further information on the five leading risk factors for ill-health. The 'Data' link provides the source data for the study.\n",
    "\n",
    "* Download the Source Data tables\n",
    "\n",
    "You should now have the file `risk-factors-2014-15-source-data.xls`.\n",
    "\n",
    "Open the spreadsheet and inspect the table of contents. You should find the nine tables listed on the \"Risk factors to health\" report website.\n",
    "\n",
    "Save the spreadsheet in `.xslx` format, and upload it to the Health lab directory in CoCalc.\n"
   ]
  },
  {
   "cell_type": "markdown",
   "metadata": {
    "collapsed": false
   },
   "source": [
    "### Reading the data into a `pandas` DataFrame\n",
    "\n",
    "We will investigate the data using `pandas`, beginning with the data on physical activity (Table 5). This time we'll take the data directly from the `xlsx` file! (Rather than using a 'flat file' format like csv as an interlingua).\n",
    "\n",
    "As usual you will want to start by importing some packages. It is also suggested you start with some constants to ease access to the data. We'll use the following:\n"
   ]
  },
  {
   "cell_type": "code",
   "execution_count": 27,
   "metadata": {
    "collapsed": false,
    "deletable": false,
    "editable": false,
    "nbgrader": {
     "grade": false,
     "grade_id": "afb982",
     "locked": true,
     "schema_version": 3,
     "solution": false,
     "task": false
    }
   },
   "outputs": [
   ],
   "source": [
    "SOURCE = \"risk-factors-2014-15-source-data.xlsx\"\n",
    "TABLES = {3: \"Table 3_Alcohol\",\n",
    "          4: \"Table 4_Smoking\",\n",
    "          5: \"Table 5_Physical activity\",\n",
    "          6: \"Table 6_Dyslipidaemia\",\n",
    "         }"
   ]
  },
  {
   "cell_type": "markdown",
   "metadata": {
    "collapsed": false
   },
   "source": [
    "Open the [pandas API](https://pandas.pydata.org/pandas-docs/stable/reference/index.html) reference, and find **Excel** in the **Input/Output** listing.\n",
    "You should by now be used to reading APIs and anticipating the kinds of arguments you will find in the functions.\n",
    "\n",
    "* Use `read_excel()` to read in Table 5 using its sheet name, which you can extract from the above TABLES dictionary. (You should use SOURCE and TABLES, not type in the strings.)\n",
    "\n",
    "You should use other arguments to ensure that:\n",
    "  * the first line is skipped over and the second line is used for the *column labels*\n",
    "  * only the first 4 columns are included\n",
    "  * the first (zeroth) column is used for the *index*\n",
    "  * the notes at the bottom are excluded\n",
    "\n",
    "* Check the table shape, and use the `head()` function to view the table. (Look for how to do both of these in the API.)\n",
    "\n",
    "It should contain the following data (but presented in a nicer looking table format):\n",
    "```\n",
    "                             Men Women  Persons\n",
    "Population characteristics                     \n",
    "Age group (years)(a)(b)      NaN   NaN      NaN\n",
    "18–24                       45.4  50.7     48.0\n",
    "25–34                       43.9    49     46.5\n",
    "35–44                       53.3  53.6     53.4\n",
    "45–54                       56.8  56.2     56.6\n",
    "55–64                         54  59.7     56.5\n",
    "65+                         73.5  76.9     75.0\n",
    "All persons (18–64)         50.6  53.7     52.2\n",
    "All persons (18+)              —     —     56.4\n",
    "Remoteness(a)                NaN   NaN      NaN\n",
    "Major cities                  47  52.4     49.7\n",
    "Inner regional              59.1  56.7     57.9\n",
    "Outer regional and remote   63.9  57.4     60.3\n",
    "Socioeconomic status(a)      NaN   NaN      NaN\n",
    "Q1 (most disadvantaged)     59.6  66.1     62.6\n",
    "Q2                            59  54.1     56.7\n",
    "Q3                          55.4  55.5     55.5\n",
    "Q4                          44.4    51     47.3\n",
    "Q5 (least disadvantaged)    37.7  42.6     40.0\n",
    "Time series (c)(d)           NaN   NaN      NaN\n",
    "2007–08                        —     —     49.1\n",
    "2011–12                        —     —     45.3\n",
    "2014–15                        —     —     44.3\n",
    "```\n",
    "\n",
    "Is the reported shape what you expected?"
   ]
  },
  {
   "cell_type": "code",
   "execution_count": 28,
   "metadata": {
    "collapsed": false
   },
   "outputs": [
   ],
   "source": [
    "import pandas as pd\n",
    "import numpy as np"
   ]
  },
  {
   "cell_type": "code",
   "execution_count": 29,
   "metadata": {
    "collapsed": false
   },
   "outputs": [
   ],
   "source": [
    "myfile = pd.read_excel (SOURCE,TABLES[5],header = 1,index_col = 0, skiprows = range(25,33))"
   ]
  },
  {
   "cell_type": "code",
   "execution_count": 30,
   "metadata": {
    "collapsed": false
   },
   "outputs": [
    {
     "data": {
      "text/plain": [
       "(23, 3)"
      ]
     },
     "execution_count": 30,
     "metadata": {
     },
     "output_type": "execute_result"
    }
   ],
   "source": [
    "myfile.shape"
   ]
  },
  {
   "cell_type": "code",
   "execution_count": 31,
   "metadata": {
    "collapsed": false
   },
   "outputs": [
    {
     "data": {
      "text/html": [
       "<div>\n",
       "<style scoped>\n",
       "    .dataframe tbody tr th:only-of-type {\n",
       "        vertical-align: middle;\n",
       "    }\n",
       "\n",
       "    .dataframe tbody tr th {\n",
       "        vertical-align: top;\n",
       "    }\n",
       "\n",
       "    .dataframe thead th {\n",
       "        text-align: right;\n",
       "    }\n",
       "</style>\n",
       "<table border=\"1\" class=\"dataframe\">\n",
       "  <thead>\n",
       "    <tr style=\"text-align: right;\">\n",
       "      <th></th>\n",
       "      <th>Men</th>\n",
       "      <th>Women</th>\n",
       "      <th>Persons</th>\n",
       "    </tr>\n",
       "    <tr>\n",
       "      <th>Population characteristics</th>\n",
       "      <th></th>\n",
       "      <th></th>\n",
       "      <th></th>\n",
       "    </tr>\n",
       "  </thead>\n",
       "  <tbody>\n",
       "    <tr>\n",
       "      <th>Age group (years)(a)(b)</th>\n",
       "      <td>NaN</td>\n",
       "      <td>NaN</td>\n",
       "      <td>NaN</td>\n",
       "    </tr>\n",
       "    <tr>\n",
       "      <th>18–24</th>\n",
       "      <td>45.4</td>\n",
       "      <td>50.7</td>\n",
       "      <td>48.0</td>\n",
       "    </tr>\n",
       "    <tr>\n",
       "      <th>25–34</th>\n",
       "      <td>43.9</td>\n",
       "      <td>49</td>\n",
       "      <td>46.5</td>\n",
       "    </tr>\n",
       "    <tr>\n",
       "      <th>35–44</th>\n",
       "      <td>53.3</td>\n",
       "      <td>53.6</td>\n",
       "      <td>53.4</td>\n",
       "    </tr>\n",
       "    <tr>\n",
       "      <th>45–54</th>\n",
       "      <td>56.8</td>\n",
       "      <td>56.2</td>\n",
       "      <td>56.6</td>\n",
       "    </tr>\n",
       "  </tbody>\n",
       "</table>\n",
       "</div>"
      ],
      "text/plain": [
       "                             Men Women  Persons\n",
       "Population characteristics                     \n",
       "Age group (years)(a)(b)      NaN   NaN      NaN\n",
       "18–24                       45.4  50.7     48.0\n",
       "25–34                       43.9    49     46.5\n",
       "35–44                       53.3  53.6     53.4\n",
       "45–54                       56.8  56.2     56.6"
      ]
     },
     "execution_count": 31,
     "metadata": {
     },
     "output_type": "execute_result"
    }
   ],
   "source": [
    "myfile.head()"
   ]
  },
  {
   "cell_type": "code",
   "execution_count": 0,
   "metadata": {
    "collapsed": false
   },
   "outputs": [
   ],
   "source": [
   ]
  },
  {
   "cell_type": "markdown",
   "metadata": {
    "collapsed": false
   },
   "source": [
    "The \"subheadings\" in the spreadsheet (such as **Age group (years)**) are just string data. They can be distinguished in our pandas table by the fact that the corresponding data fields contain `np.NaN`.\n",
    "\n",
    "* Under DataFrame in the pandas API, find the \"**Missing data handling**\" section for Dataframes, and use `dropna()` to drop the subheading rows (those with `NaN` in them).\n",
    "\n",
    "Your table should now begin with:\n",
    "```\n",
    "                             Men Women  Persons\n",
    "Population characteristics                     \n",
    "18–24                       45.4  50.7     48.0\n",
    "25–34                       43.9    49     46.5\n",
    "35–44                       53.3  53.6     53.4\n",
    "45–54                       56.8  56.2     56.6\n",
    "55–64                         54  59.7     56.5\n",
    "65+                         73.5  76.9     75.0\n",
    "All persons (18–64)         50.6  53.7     52.2\n",
    "All persons (18+)              —     —     56.4\n",
    "Major cities                  47  52.4     49.7\n",
    "Inner regional              59.1  56.7     57.9\n",
    "...\n",
    "```\n",
    "\n",
    "Check the shape again and ensure the change in shape is what you expected.\n"
   ]
  },
  {
   "cell_type": "code",
   "execution_count": 32,
   "metadata": {
    "collapsed": false
   },
   "outputs": [
    {
     "data": {
      "text/html": [
       "<div>\n",
       "<style scoped>\n",
       "    .dataframe tbody tr th:only-of-type {\n",
       "        vertical-align: middle;\n",
       "    }\n",
       "\n",
       "    .dataframe tbody tr th {\n",
       "        vertical-align: top;\n",
       "    }\n",
       "\n",
       "    .dataframe thead th {\n",
       "        text-align: right;\n",
       "    }\n",
       "</style>\n",
       "<table border=\"1\" class=\"dataframe\">\n",
       "  <thead>\n",
       "    <tr style=\"text-align: right;\">\n",
       "      <th></th>\n",
       "      <th>Men</th>\n",
       "      <th>Women</th>\n",
       "      <th>Persons</th>\n",
       "    </tr>\n",
       "    <tr>\n",
       "      <th>Population characteristics</th>\n",
       "      <th></th>\n",
       "      <th></th>\n",
       "      <th></th>\n",
       "    </tr>\n",
       "  </thead>\n",
       "  <tbody>\n",
       "    <tr>\n",
       "      <th>18–24</th>\n",
       "      <td>45.4</td>\n",
       "      <td>50.7</td>\n",
       "      <td>48.0</td>\n",
       "    </tr>\n",
       "    <tr>\n",
       "      <th>25–34</th>\n",
       "      <td>43.9</td>\n",
       "      <td>49</td>\n",
       "      <td>46.5</td>\n",
       "    </tr>\n",
       "    <tr>\n",
       "      <th>35–44</th>\n",
       "      <td>53.3</td>\n",
       "      <td>53.6</td>\n",
       "      <td>53.4</td>\n",
       "    </tr>\n",
       "    <tr>\n",
       "      <th>45–54</th>\n",
       "      <td>56.8</td>\n",
       "      <td>56.2</td>\n",
       "      <td>56.6</td>\n",
       "    </tr>\n",
       "    <tr>\n",
       "      <th>55–64</th>\n",
       "      <td>54</td>\n",
       "      <td>59.7</td>\n",
       "      <td>56.5</td>\n",
       "    </tr>\n",
       "    <tr>\n",
       "      <th>65+</th>\n",
       "      <td>73.5</td>\n",
       "      <td>76.9</td>\n",
       "      <td>75.0</td>\n",
       "    </tr>\n",
       "    <tr>\n",
       "      <th>All persons (18–64)</th>\n",
       "      <td>50.6</td>\n",
       "      <td>53.7</td>\n",
       "      <td>52.2</td>\n",
       "    </tr>\n",
       "    <tr>\n",
       "      <th>All persons (18+)</th>\n",
       "      <td>—</td>\n",
       "      <td>—</td>\n",
       "      <td>56.4</td>\n",
       "    </tr>\n",
       "    <tr>\n",
       "      <th>Major cities</th>\n",
       "      <td>47</td>\n",
       "      <td>52.4</td>\n",
       "      <td>49.7</td>\n",
       "    </tr>\n",
       "    <tr>\n",
       "      <th>Inner regional</th>\n",
       "      <td>59.1</td>\n",
       "      <td>56.7</td>\n",
       "      <td>57.9</td>\n",
       "    </tr>\n",
       "    <tr>\n",
       "      <th>Outer regional and remote</th>\n",
       "      <td>63.9</td>\n",
       "      <td>57.4</td>\n",
       "      <td>60.3</td>\n",
       "    </tr>\n",
       "    <tr>\n",
       "      <th>Q1 (most disadvantaged)</th>\n",
       "      <td>59.6</td>\n",
       "      <td>66.1</td>\n",
       "      <td>62.6</td>\n",
       "    </tr>\n",
       "    <tr>\n",
       "      <th>Q2</th>\n",
       "      <td>59</td>\n",
       "      <td>54.1</td>\n",
       "      <td>56.7</td>\n",
       "    </tr>\n",
       "    <tr>\n",
       "      <th>Q3</th>\n",
       "      <td>55.4</td>\n",
       "      <td>55.5</td>\n",
       "      <td>55.5</td>\n",
       "    </tr>\n",
       "    <tr>\n",
       "      <th>Q4</th>\n",
       "      <td>44.4</td>\n",
       "      <td>51</td>\n",
       "      <td>47.3</td>\n",
       "    </tr>\n",
       "    <tr>\n",
       "      <th>Q5 (least disadvantaged)</th>\n",
       "      <td>37.7</td>\n",
       "      <td>42.6</td>\n",
       "      <td>40.0</td>\n",
       "    </tr>\n",
       "    <tr>\n",
       "      <th>2007–08</th>\n",
       "      <td>—</td>\n",
       "      <td>—</td>\n",
       "      <td>49.1</td>\n",
       "    </tr>\n",
       "    <tr>\n",
       "      <th>2011–12</th>\n",
       "      <td>—</td>\n",
       "      <td>—</td>\n",
       "      <td>45.3</td>\n",
       "    </tr>\n",
       "    <tr>\n",
       "      <th>2014–15</th>\n",
       "      <td>—</td>\n",
       "      <td>—</td>\n",
       "      <td>44.3</td>\n",
       "    </tr>\n",
       "  </tbody>\n",
       "</table>\n",
       "</div>"
      ],
      "text/plain": [
       "                             Men Women  Persons\n",
       "Population characteristics                     \n",
       "18–24                       45.4  50.7     48.0\n",
       "25–34                       43.9    49     46.5\n",
       "35–44                       53.3  53.6     53.4\n",
       "45–54                       56.8  56.2     56.6\n",
       "55–64                         54  59.7     56.5\n",
       "65+                         73.5  76.9     75.0\n",
       "All persons (18–64)         50.6  53.7     52.2\n",
       "All persons (18+)              —     —     56.4\n",
       "Major cities                  47  52.4     49.7\n",
       "Inner regional              59.1  56.7     57.9\n",
       "Outer regional and remote   63.9  57.4     60.3\n",
       "Q1 (most disadvantaged)     59.6  66.1     62.6\n",
       "Q2                            59  54.1     56.7\n",
       "Q3                          55.4  55.5     55.5\n",
       "Q4                          44.4    51     47.3\n",
       "Q5 (least disadvantaged)    37.7  42.6     40.0\n",
       "2007–08                        —     —     49.1\n",
       "2011–12                        —     —     45.3\n",
       "2014–15                        —     —     44.3"
      ]
     },
     "execution_count": 32,
     "metadata": {
     },
     "output_type": "execute_result"
    }
   ],
   "source": [
    "myfile = myfile.dropna(axis=0, how = 'all')\n",
    "myfile"
   ]
  },
  {
   "cell_type": "code",
   "execution_count": 33,
   "metadata": {
    "collapsed": false
   },
   "outputs": [
    {
     "data": {
      "text/plain": [
       "(19, 3)"
      ]
     },
     "execution_count": 33,
     "metadata": {
     },
     "output_type": "execute_result"
    }
   ],
   "source": [
    "myfile.shape"
   ]
  },
  {
   "cell_type": "code",
   "execution_count": 0,
   "metadata": {
    "collapsed": false
   },
   "outputs": [
   ],
   "source": [
   ]
  },
  {
   "cell_type": "markdown",
   "metadata": {
    "collapsed": false
   },
   "source": [
    "#### dtypes\n",
    "\n",
    "* Use the DataFrame's `dtypes` attribute to check the data types of your data columns.\n",
    "\n",
    "What do you notice? Why has this occurred?"
   ]
  },
  {
   "cell_type": "code",
   "execution_count": 34,
   "metadata": {
    "collapsed": false
   },
   "outputs": [
    {
     "data": {
      "text/plain": [
       "Men         object\n",
       "Women       object\n",
       "Persons    float64\n",
       "dtype: object"
      ]
     },
     "execution_count": 34,
     "metadata": {
     },
     "output_type": "execute_result"
    }
   ],
   "source": [
    "myfile.dtypes"
   ]
  },
  {
   "cell_type": "markdown",
   "metadata": {
    "collapsed": false
   },
   "source": [
    "Let's see if we can bludgeon pandas into using the 'right' dtype. In fact, since the numbers are not high precision, just for now, let's set them to 32 bit floats and save some storage space. Look for the `dtype` argument in `read_excel` to see how to set the dtype.\n",
    "\n",
    "- Using the `dtype` argument, explicitly set the dtype for the Men, Women and Persons columns to 32 bit floats. Use a different variable name (eg `risks2`) to avoid confusion with the above table.\n",
    "\n",
    "What do you find and why?"
   ]
  },
  {
   "cell_type": "code",
   "execution_count": 35,
   "metadata": {
    "collapsed": false
   },
   "outputs": [
   ],
   "source": [
    "#risk2 = pd.read_excel (SOURCE,TABLES[5],header = 1,index_col = 0, skiprows = range(25,33), dtype = {'Men': np.float32, 'Women': np.float32, 'Persons': np.float32 })"
   ]
  },
  {
   "cell_type": "markdown",
   "metadata": {
    "collapsed": false
   },
   "source": [
    "It should be clear now what the problem was, and why pandas chose the type `Object`. Let's try again.\n",
    "\n",
    "* Read the table in again using `read_excel()`. This time set the parameter `na_values='-'`. Read the API to see what this does. (You can go back to the default float size.)\n",
    "\n",
    "Again, use a different variable name (eg `risks3`) to avoid confusion with the previous table.\n",
    "\n",
    "Check the dtypes. Did it work?\n",
    "\n"
   ]
  },
  {
   "cell_type": "code",
   "execution_count": 36,
   "metadata": {
    "collapsed": false
   },
   "outputs": [
   ],
   "source": [
    "risk3 = pd.read_excel (SOURCE,TABLES[5],header = 1,index_col = 0, skiprows = range(25,33), \n",
    "na_values='—',dtype = {'Men': np.float32, 'Women': np.float32, 'Persons': np.float32 })"
   ]
  },
  {
   "cell_type": "code",
   "execution_count": 37,
   "metadata": {
    "collapsed": false
   },
   "outputs": [
    {
     "data": {
      "text/html": [
       "<div>\n",
       "<style scoped>\n",
       "    .dataframe tbody tr th:only-of-type {\n",
       "        vertical-align: middle;\n",
       "    }\n",
       "\n",
       "    .dataframe tbody tr th {\n",
       "        vertical-align: top;\n",
       "    }\n",
       "\n",
       "    .dataframe thead th {\n",
       "        text-align: right;\n",
       "    }\n",
       "</style>\n",
       "<table border=\"1\" class=\"dataframe\">\n",
       "  <thead>\n",
       "    <tr style=\"text-align: right;\">\n",
       "      <th></th>\n",
       "      <th>Men</th>\n",
       "      <th>Women</th>\n",
       "      <th>Persons</th>\n",
       "    </tr>\n",
       "    <tr>\n",
       "      <th>Population characteristics</th>\n",
       "      <th></th>\n",
       "      <th></th>\n",
       "      <th></th>\n",
       "    </tr>\n",
       "  </thead>\n",
       "  <tbody>\n",
       "    <tr>\n",
       "      <th>Age group (years)(a)(b)</th>\n",
       "      <td>NaN</td>\n",
       "      <td>NaN</td>\n",
       "      <td>NaN</td>\n",
       "    </tr>\n",
       "    <tr>\n",
       "      <th>18–24</th>\n",
       "      <td>45.400002</td>\n",
       "      <td>50.700001</td>\n",
       "      <td>48.000000</td>\n",
       "    </tr>\n",
       "    <tr>\n",
       "      <th>25–34</th>\n",
       "      <td>43.900002</td>\n",
       "      <td>49.000000</td>\n",
       "      <td>46.500000</td>\n",
       "    </tr>\n",
       "    <tr>\n",
       "      <th>35–44</th>\n",
       "      <td>53.299999</td>\n",
       "      <td>53.599998</td>\n",
       "      <td>53.400002</td>\n",
       "    </tr>\n",
       "    <tr>\n",
       "      <th>45–54</th>\n",
       "      <td>56.799999</td>\n",
       "      <td>56.200001</td>\n",
       "      <td>56.599998</td>\n",
       "    </tr>\n",
       "    <tr>\n",
       "      <th>55–64</th>\n",
       "      <td>54.000000</td>\n",
       "      <td>59.700001</td>\n",
       "      <td>56.500000</td>\n",
       "    </tr>\n",
       "    <tr>\n",
       "      <th>65+</th>\n",
       "      <td>73.500000</td>\n",
       "      <td>76.900002</td>\n",
       "      <td>75.000000</td>\n",
       "    </tr>\n",
       "    <tr>\n",
       "      <th>All persons (18–64)</th>\n",
       "      <td>50.599998</td>\n",
       "      <td>53.700001</td>\n",
       "      <td>52.200001</td>\n",
       "    </tr>\n",
       "    <tr>\n",
       "      <th>All persons (18+)</th>\n",
       "      <td>NaN</td>\n",
       "      <td>NaN</td>\n",
       "      <td>56.400002</td>\n",
       "    </tr>\n",
       "    <tr>\n",
       "      <th>Remoteness(a)</th>\n",
       "      <td>NaN</td>\n",
       "      <td>NaN</td>\n",
       "      <td>NaN</td>\n",
       "    </tr>\n",
       "    <tr>\n",
       "      <th>Major cities</th>\n",
       "      <td>47.000000</td>\n",
       "      <td>52.400002</td>\n",
       "      <td>49.700001</td>\n",
       "    </tr>\n",
       "    <tr>\n",
       "      <th>Inner regional</th>\n",
       "      <td>59.099998</td>\n",
       "      <td>56.700001</td>\n",
       "      <td>57.900002</td>\n",
       "    </tr>\n",
       "    <tr>\n",
       "      <th>Outer regional and remote</th>\n",
       "      <td>63.900002</td>\n",
       "      <td>57.400002</td>\n",
       "      <td>60.299999</td>\n",
       "    </tr>\n",
       "    <tr>\n",
       "      <th>Socioeconomic status(a)</th>\n",
       "      <td>NaN</td>\n",
       "      <td>NaN</td>\n",
       "      <td>NaN</td>\n",
       "    </tr>\n",
       "    <tr>\n",
       "      <th>Q1 (most disadvantaged)</th>\n",
       "      <td>59.599998</td>\n",
       "      <td>66.099998</td>\n",
       "      <td>62.599998</td>\n",
       "    </tr>\n",
       "    <tr>\n",
       "      <th>Q2</th>\n",
       "      <td>59.000000</td>\n",
       "      <td>54.099998</td>\n",
       "      <td>56.700001</td>\n",
       "    </tr>\n",
       "    <tr>\n",
       "      <th>Q3</th>\n",
       "      <td>55.400002</td>\n",
       "      <td>55.500000</td>\n",
       "      <td>55.500000</td>\n",
       "    </tr>\n",
       "    <tr>\n",
       "      <th>Q4</th>\n",
       "      <td>44.400002</td>\n",
       "      <td>51.000000</td>\n",
       "      <td>47.299999</td>\n",
       "    </tr>\n",
       "    <tr>\n",
       "      <th>Q5 (least disadvantaged)</th>\n",
       "      <td>37.700001</td>\n",
       "      <td>42.599998</td>\n",
       "      <td>40.000000</td>\n",
       "    </tr>\n",
       "    <tr>\n",
       "      <th>Time series (c)(d)</th>\n",
       "      <td>NaN</td>\n",
       "      <td>NaN</td>\n",
       "      <td>NaN</td>\n",
       "    </tr>\n",
       "    <tr>\n",
       "      <th>2007–08</th>\n",
       "      <td>NaN</td>\n",
       "      <td>NaN</td>\n",
       "      <td>49.099998</td>\n",
       "    </tr>\n",
       "    <tr>\n",
       "      <th>2011–12</th>\n",
       "      <td>NaN</td>\n",
       "      <td>NaN</td>\n",
       "      <td>45.299999</td>\n",
       "    </tr>\n",
       "    <tr>\n",
       "      <th>2014–15</th>\n",
       "      <td>NaN</td>\n",
       "      <td>NaN</td>\n",
       "      <td>44.299999</td>\n",
       "    </tr>\n",
       "  </tbody>\n",
       "</table>\n",
       "</div>"
      ],
      "text/plain": [
       "                                  Men      Women    Persons\n",
       "Population characteristics                                 \n",
       "Age group (years)(a)(b)           NaN        NaN        NaN\n",
       "18–24                       45.400002  50.700001  48.000000\n",
       "25–34                       43.900002  49.000000  46.500000\n",
       "35–44                       53.299999  53.599998  53.400002\n",
       "45–54                       56.799999  56.200001  56.599998\n",
       "55–64                       54.000000  59.700001  56.500000\n",
       "65+                         73.500000  76.900002  75.000000\n",
       "All persons (18–64)         50.599998  53.700001  52.200001\n",
       "All persons (18+)                 NaN        NaN  56.400002\n",
       "Remoteness(a)                     NaN        NaN        NaN\n",
       "Major cities                47.000000  52.400002  49.700001\n",
       "Inner regional              59.099998  56.700001  57.900002\n",
       "Outer regional and remote   63.900002  57.400002  60.299999\n",
       "Socioeconomic status(a)           NaN        NaN        NaN\n",
       "Q1 (most disadvantaged)     59.599998  66.099998  62.599998\n",
       "Q2                          59.000000  54.099998  56.700001\n",
       "Q3                          55.400002  55.500000  55.500000\n",
       "Q4                          44.400002  51.000000  47.299999\n",
       "Q5 (least disadvantaged)    37.700001  42.599998  40.000000\n",
       "Time series (c)(d)                NaN        NaN        NaN\n",
       "2007–08                           NaN        NaN  49.099998\n",
       "2011–12                           NaN        NaN  45.299999\n",
       "2014–15                           NaN        NaN  44.299999"
      ]
     },
     "execution_count": 37,
     "metadata": {
     },
     "output_type": "execute_result"
    }
   ],
   "source": [
    "risk3.dtypes\n",
    "risk3"
   ]
  },
  {
   "cell_type": "markdown",
   "metadata": {
    "collapsed": false
   },
   "source": [
    "This is a good example of the need for caution when trusting \"what you see\" in string or character data.\n",
    "\n",
    "There are in fact many kinds of dashes in Unicode, and its very difficult to tell from looking at it what kind of dash the spreadsheet has used.\n",
    "\n",
    "* Use Dataframe's `loc()` method to extract one of the dashes from your table. (Print it to make sure.)\n",
    "\n",
    "_Tip: `loc()` can be found under **Indexing, iteration** in the DataFrame API._\n",
    "\n",
    "* Use python's `ord()` method to find the Unicode number of the character you extracted from the table. What is its Unicode number?\n",
    "* To check, use python's `chr()` method to convert the Unicode number back into a character, and print it. Does it match the one above?\n",
    "* Is this the same Unicode value as the dash used in the age groups?"
   ]
  },
  {
   "cell_type": "code",
   "execution_count": 38,
   "metadata": {
    "collapsed": false
   },
   "outputs": [
    {
     "data": {
      "text/plain": [
       "'—'"
      ]
     },
     "execution_count": 38,
     "metadata": {
     },
     "output_type": "execute_result"
    }
   ],
   "source": [
    "myfile.loc['All persons (18+)', 'Men']"
   ]
  },
  {
   "cell_type": "code",
   "execution_count": 39,
   "metadata": {
    "collapsed": false
   },
   "outputs": [
    {
     "data": {
      "text/plain": [
       "8212"
      ]
     },
     "execution_count": 39,
     "metadata": {
     },
     "output_type": "execute_result"
    }
   ],
   "source": [
    "ord(myfile.loc['All persons (18+)', 'Men'])"
   ]
  },
  {
   "cell_type": "code",
   "execution_count": 40,
   "metadata": {
    "collapsed": false
   },
   "outputs": [
    {
     "data": {
      "text/plain": [
       "'—'"
      ]
     },
     "execution_count": 40,
     "metadata": {
     },
     "output_type": "execute_result"
    }
   ],
   "source": [
    "chr(8212)"
   ]
  },
  {
   "cell_type": "code",
   "execution_count": 41,
   "metadata": {
    "collapsed": false
   },
   "outputs": [
    {
     "data": {
      "text/plain": [
       "Men        50.6\n",
       "Women      53.7\n",
       "Persons    52.2\n",
       "Name: All persons (18–64), dtype: object"
      ]
     },
     "execution_count": 41,
     "metadata": {
     },
     "output_type": "execute_result"
    }
   ],
   "source": [
    "myfile.loc[\"All persons (18–64)\"]"
   ]
  },
  {
   "cell_type": "markdown",
   "metadata": {
    "collapsed": false
   },
   "source": [
    "We can now read in the table again (to `risks4)`.\n",
    "\n",
    "* Use `read_excel()` to read in Table 5, but this time set `na_values` to the correct character.\n",
    "\n",
    "*Hint: You will need to use `chr()`*.\n",
    "    \n",
    "Have a look at your dataframe and ensure that the dashes have been replaced by NaN.\n",
    "\n",
    "Check that the dtypes are now correct."
   ]
  },
  {
   "cell_type": "code",
   "execution_count": 42,
   "metadata": {
    "collapsed": false
   },
   "outputs": [
   ],
   "source": [
    "risk4 = pd.read_excel (SOURCE,TABLES[5],header = 1,index_col = 0, skipfooter = 8, \n",
    "na_values=chr(8212),dtype = {'Men': np.float32, 'Women': np.float32, 'Persons': np.float32 })"
   ]
  },
  {
   "cell_type": "code",
   "execution_count": 43,
   "metadata": {
    "collapsed": false
   },
   "outputs": [
    {
     "data": {
      "text/plain": [
       "Men        float32\n",
       "Women      float32\n",
       "Persons    float32\n",
       "dtype: object"
      ]
     },
     "execution_count": 43,
     "metadata": {
     },
     "output_type": "execute_result"
    }
   ],
   "source": [
    "risk4.dtypes"
   ]
  },
  {
   "cell_type": "markdown",
   "metadata": {
    "collapsed": false
   },
   "source": [
    "Notice that there are now some rows which have all NaNs, and some which have some NaNs and some data.\n",
    "\n",
    "* Once again use `dropna()` to remove the 'subheader' rows. However this time use '`how`' to ensure that only the correct rows are removed (for example, the \"All persons (18+)\" row should not be removed)\n",
    "\n",
    "Check the shape and the dtypes. Are they now what you would expect (the data should all be floats)? If not, ensure they are before proceeding."
   ]
  },
  {
   "cell_type": "code",
   "execution_count": 44,
   "metadata": {
    "collapsed": false
   },
   "outputs": [
    {
     "data": {
      "text/html": [
       "<div>\n",
       "<style scoped>\n",
       "    .dataframe tbody tr th:only-of-type {\n",
       "        vertical-align: middle;\n",
       "    }\n",
       "\n",
       "    .dataframe tbody tr th {\n",
       "        vertical-align: top;\n",
       "    }\n",
       "\n",
       "    .dataframe thead th {\n",
       "        text-align: right;\n",
       "    }\n",
       "</style>\n",
       "<table border=\"1\" class=\"dataframe\">\n",
       "  <thead>\n",
       "    <tr style=\"text-align: right;\">\n",
       "      <th></th>\n",
       "      <th>Men</th>\n",
       "      <th>Women</th>\n",
       "      <th>Persons</th>\n",
       "    </tr>\n",
       "    <tr>\n",
       "      <th>Population characteristics</th>\n",
       "      <th></th>\n",
       "      <th></th>\n",
       "      <th></th>\n",
       "    </tr>\n",
       "  </thead>\n",
       "  <tbody>\n",
       "    <tr>\n",
       "      <th>18–24</th>\n",
       "      <td>45.400002</td>\n",
       "      <td>50.700001</td>\n",
       "      <td>48.000000</td>\n",
       "    </tr>\n",
       "    <tr>\n",
       "      <th>25–34</th>\n",
       "      <td>43.900002</td>\n",
       "      <td>49.000000</td>\n",
       "      <td>46.500000</td>\n",
       "    </tr>\n",
       "    <tr>\n",
       "      <th>35–44</th>\n",
       "      <td>53.299999</td>\n",
       "      <td>53.599998</td>\n",
       "      <td>53.400002</td>\n",
       "    </tr>\n",
       "    <tr>\n",
       "      <th>45–54</th>\n",
       "      <td>56.799999</td>\n",
       "      <td>56.200001</td>\n",
       "      <td>56.599998</td>\n",
       "    </tr>\n",
       "    <tr>\n",
       "      <th>55–64</th>\n",
       "      <td>54.000000</td>\n",
       "      <td>59.700001</td>\n",
       "      <td>56.500000</td>\n",
       "    </tr>\n",
       "    <tr>\n",
       "      <th>65+</th>\n",
       "      <td>73.500000</td>\n",
       "      <td>76.900002</td>\n",
       "      <td>75.000000</td>\n",
       "    </tr>\n",
       "    <tr>\n",
       "      <th>All persons (18–64)</th>\n",
       "      <td>50.599998</td>\n",
       "      <td>53.700001</td>\n",
       "      <td>52.200001</td>\n",
       "    </tr>\n",
       "    <tr>\n",
       "      <th>All persons (18+)</th>\n",
       "      <td>NaN</td>\n",
       "      <td>NaN</td>\n",
       "      <td>56.400002</td>\n",
       "    </tr>\n",
       "    <tr>\n",
       "      <th>Major cities</th>\n",
       "      <td>47.000000</td>\n",
       "      <td>52.400002</td>\n",
       "      <td>49.700001</td>\n",
       "    </tr>\n",
       "    <tr>\n",
       "      <th>Inner regional</th>\n",
       "      <td>59.099998</td>\n",
       "      <td>56.700001</td>\n",
       "      <td>57.900002</td>\n",
       "    </tr>\n",
       "    <tr>\n",
       "      <th>Outer regional and remote</th>\n",
       "      <td>63.900002</td>\n",
       "      <td>57.400002</td>\n",
       "      <td>60.299999</td>\n",
       "    </tr>\n",
       "    <tr>\n",
       "      <th>Q1 (most disadvantaged)</th>\n",
       "      <td>59.599998</td>\n",
       "      <td>66.099998</td>\n",
       "      <td>62.599998</td>\n",
       "    </tr>\n",
       "    <tr>\n",
       "      <th>Q2</th>\n",
       "      <td>59.000000</td>\n",
       "      <td>54.099998</td>\n",
       "      <td>56.700001</td>\n",
       "    </tr>\n",
       "    <tr>\n",
       "      <th>Q3</th>\n",
       "      <td>55.400002</td>\n",
       "      <td>55.500000</td>\n",
       "      <td>55.500000</td>\n",
       "    </tr>\n",
       "    <tr>\n",
       "      <th>Q4</th>\n",
       "      <td>44.400002</td>\n",
       "      <td>51.000000</td>\n",
       "      <td>47.299999</td>\n",
       "    </tr>\n",
       "    <tr>\n",
       "      <th>Q5 (least disadvantaged)</th>\n",
       "      <td>37.700001</td>\n",
       "      <td>42.599998</td>\n",
       "      <td>40.000000</td>\n",
       "    </tr>\n",
       "    <tr>\n",
       "      <th>2007–08</th>\n",
       "      <td>NaN</td>\n",
       "      <td>NaN</td>\n",
       "      <td>49.099998</td>\n",
       "    </tr>\n",
       "    <tr>\n",
       "      <th>2011–12</th>\n",
       "      <td>NaN</td>\n",
       "      <td>NaN</td>\n",
       "      <td>45.299999</td>\n",
       "    </tr>\n",
       "    <tr>\n",
       "      <th>2014–15</th>\n",
       "      <td>NaN</td>\n",
       "      <td>NaN</td>\n",
       "      <td>44.299999</td>\n",
       "    </tr>\n",
       "  </tbody>\n",
       "</table>\n",
       "</div>"
      ],
      "text/plain": [
       "                                  Men      Women    Persons\n",
       "Population characteristics                                 \n",
       "18–24                       45.400002  50.700001  48.000000\n",
       "25–34                       43.900002  49.000000  46.500000\n",
       "35–44                       53.299999  53.599998  53.400002\n",
       "45–54                       56.799999  56.200001  56.599998\n",
       "55–64                       54.000000  59.700001  56.500000\n",
       "65+                         73.500000  76.900002  75.000000\n",
       "All persons (18–64)         50.599998  53.700001  52.200001\n",
       "All persons (18+)                 NaN        NaN  56.400002\n",
       "Major cities                47.000000  52.400002  49.700001\n",
       "Inner regional              59.099998  56.700001  57.900002\n",
       "Outer regional and remote   63.900002  57.400002  60.299999\n",
       "Q1 (most disadvantaged)     59.599998  66.099998  62.599998\n",
       "Q2                          59.000000  54.099998  56.700001\n",
       "Q3                          55.400002  55.500000  55.500000\n",
       "Q4                          44.400002  51.000000  47.299999\n",
       "Q5 (least disadvantaged)    37.700001  42.599998  40.000000\n",
       "2007–08                           NaN        NaN  49.099998\n",
       "2011–12                           NaN        NaN  45.299999\n",
       "2014–15                           NaN        NaN  44.299999"
      ]
     },
     "execution_count": 44,
     "metadata": {
     },
     "output_type": "execute_result"
    }
   ],
   "source": [
    "risk4 = risk4.dropna(axis=0, how = 'all')\n",
    "risk4"
   ]
  },
  {
   "cell_type": "code",
   "execution_count": 45,
   "metadata": {
    "collapsed": false
   },
   "outputs": [
    {
     "data": {
      "text/plain": [
       "Men        float32\n",
       "Women      float32\n",
       "Persons    float32\n",
       "dtype: object"
      ]
     },
     "execution_count": 45,
     "metadata": {
     },
     "output_type": "execute_result"
    }
   ],
   "source": [
    "risk4.dtypes"
   ]
  },
  {
   "cell_type": "code",
   "execution_count": 46,
   "metadata": {
    "collapsed": false
   },
   "outputs": [
    {
     "data": {
      "text/plain": [
       "(19, 3)"
      ]
     },
     "execution_count": 46,
     "metadata": {
     },
     "output_type": "execute_result"
    }
   ],
   "source": [
    "risk4.shape"
   ]
  },
  {
   "cell_type": "markdown",
   "metadata": {
    "collapsed": false
   },
   "source": [
    "You may have used `skipfooter` to exclude the reference notes at the bottom of the table.\n",
    "\n",
    "Have a look at the other spreadsheets for tables 3 to 6. You should see that the formats are the same, but there are different numbers of notes at the bottom.\n",
    "\n",
    "`skipfooter` will therefore not work if we want to reuse (_generalise_) the code to work for these other tables in workbook.\n",
    "\n",
    "* How else might the reference rows be removed?\n",
    "\n",
    "*Hint: No extra coding needed!*"
   ]
  },
  {
   "cell_type": "markdown",
   "metadata": {
    "collapsed": false
   },
   "source": [
    "### Q1. Putting it all together [1 lab mark]\n",
    "\n",
    "* Write a function `load_and_clean(tablenum)` that takes a table number and returns a dataframe for that table with:\n",
    "  * subheading rows removed\n",
    "  * reference section removed\n",
    "  * all data as `float64`\n",
    "\n",
    "You should ensure this works on tables 3 to 6."
   ]
  },
  {
   "cell_type": "code",
   "execution_count": 47,
   "metadata": {
    "collapsed": false,
    "deletable": false,
    "nbgrader": {
     "cell_type": "code",
     "checksum": "a4788a85996d5aa1a5d2597064c11101",
     "grade": false,
     "grade_id": "1a8d2d",
     "locked": false,
     "schema_version": 3,
     "solution": true,
     "task": false
    }
   },
   "outputs": [
   ],
   "source": [
    "def load_and_clean(tablenum):\n",
    "    myfile = pd.read_excel(SOURCE,TABLES[tablenum],header = 1,index_col = 0, na_values=chr(8212))\n",
    "    myfile = myfile.dropna(axis=0, how = 'all')\n",
    "    return myfile"
   ]
  },
  {
   "cell_type": "code",
   "execution_count": 48,
   "metadata": {
    "collapsed": false,
    "deletable": false,
    "editable": false,
    "nbgrader": {
     "grade": true,
     "grade_id": "load_and_clean",
     "locked": true,
     "points": 1,
     "schema_version": 3,
     "solution": false,
     "task": false
    }
   },
   "outputs": [
    {
     "name": "stdout",
     "output_type": "stream",
     "text": [
      "So far, so good. Please continue with your own testing.\n"
     ]
    }
   ],
   "source": [
    "from nose.tools import assert_equal, assert_true\n",
    "\n",
    "assert_equal(load_and_clean(5).shape, (19, 3))\n",
    "assert_equal(load_and_clean(6).shape, (16, 3))\n",
    "assert_equal(load_and_clean(5).dtypes[\"Women\"], np.float64)\n",
    "assert_true(np.isnan(load_and_clean(5).loc[\"All persons (18+)\",\"Men\"]))\n",
    "assert_true(np.isclose(load_and_clean(5).iloc[-1][\"Persons\"],44.3))\n",
    "print(\"So far, so good. Please continue with your own testing.\")\n"
   ]
  },
  {
   "cell_type": "code",
   "execution_count": 0,
   "metadata": {
    "collapsed": false
   },
   "outputs": [
   ],
   "source": [
   ]
  },
  {
   "cell_type": "code",
   "execution_count": 0,
   "metadata": {
    "collapsed": false
   },
   "outputs": [
   ],
   "source": [
   ]
  },
  {
   "cell_type": "code",
   "execution_count": 0,
   "metadata": {
    "collapsed": false
   },
   "outputs": [
   ],
   "source": [
   ]
  },
  {
   "cell_type": "markdown",
   "metadata": {
    "collapsed": false
   },
   "source": [
    "## Data selection and visualisation\n",
    "\n",
    "Let's start with a fresh copy of the physical activity table:\n",
    "\n",
    "```\n",
    "exercise = load_and_clean(5)\n",
    "```\n",
    "\n",
    "* Extract the first 6 rows of the Physical activity table into a new dataframe called `age_groups`.\n",
    "\n",
    "_Tip: We've used `loc[]` already. Check out the difference between `iloc[]` and `loc[]`._\n",
    "\n",
    "Check that your new table is correct."
   ]
  },
  {
   "cell_type": "code",
   "execution_count": 49,
   "metadata": {
    "collapsed": false
   },
   "outputs": [
    {
     "data": {
      "text/html": [
       "<div>\n",
       "<style scoped>\n",
       "    .dataframe tbody tr th:only-of-type {\n",
       "        vertical-align: middle;\n",
       "    }\n",
       "\n",
       "    .dataframe tbody tr th {\n",
       "        vertical-align: top;\n",
       "    }\n",
       "\n",
       "    .dataframe thead th {\n",
       "        text-align: right;\n",
       "    }\n",
       "</style>\n",
       "<table border=\"1\" class=\"dataframe\">\n",
       "  <thead>\n",
       "    <tr style=\"text-align: right;\">\n",
       "      <th></th>\n",
       "      <th>Men</th>\n",
       "      <th>Women</th>\n",
       "      <th>Persons</th>\n",
       "    </tr>\n",
       "    <tr>\n",
       "      <th>Population characteristics</th>\n",
       "      <th></th>\n",
       "      <th></th>\n",
       "      <th></th>\n",
       "    </tr>\n",
       "  </thead>\n",
       "  <tbody>\n",
       "    <tr>\n",
       "      <th>18–24</th>\n",
       "      <td>45.4</td>\n",
       "      <td>50.7</td>\n",
       "      <td>48.0</td>\n",
       "    </tr>\n",
       "    <tr>\n",
       "      <th>25–34</th>\n",
       "      <td>43.9</td>\n",
       "      <td>49.0</td>\n",
       "      <td>46.5</td>\n",
       "    </tr>\n",
       "    <tr>\n",
       "      <th>35–44</th>\n",
       "      <td>53.3</td>\n",
       "      <td>53.6</td>\n",
       "      <td>53.4</td>\n",
       "    </tr>\n",
       "    <tr>\n",
       "      <th>45–54</th>\n",
       "      <td>56.8</td>\n",
       "      <td>56.2</td>\n",
       "      <td>56.6</td>\n",
       "    </tr>\n",
       "    <tr>\n",
       "      <th>55–64</th>\n",
       "      <td>54.0</td>\n",
       "      <td>59.7</td>\n",
       "      <td>56.5</td>\n",
       "    </tr>\n",
       "    <tr>\n",
       "      <th>65+</th>\n",
       "      <td>73.5</td>\n",
       "      <td>76.9</td>\n",
       "      <td>75.0</td>\n",
       "    </tr>\n",
       "  </tbody>\n",
       "</table>\n",
       "</div>"
      ],
      "text/plain": [
       "                             Men  Women  Persons\n",
       "Population characteristics                      \n",
       "18–24                       45.4   50.7     48.0\n",
       "25–34                       43.9   49.0     46.5\n",
       "35–44                       53.3   53.6     53.4\n",
       "45–54                       56.8   56.2     56.6\n",
       "55–64                       54.0   59.7     56.5\n",
       "65+                         73.5   76.9     75.0"
      ]
     },
     "execution_count": 49,
     "metadata": {
     },
     "output_type": "execute_result"
    }
   ],
   "source": [
    "exercise = load_and_clean(5)\n",
    "age_groups = exercise.iloc[:6]\n",
    "age_groups"
   ]
  },
  {
   "cell_type": "code",
   "execution_count": 50,
   "metadata": {
    "collapsed": false
   },
   "outputs": [
    {
     "data": {
      "text/plain": [
       "<AxesSubplot:xlabel='Population characteristics'>"
      ]
     },
     "execution_count": 50,
     "metadata": {
     },
     "output_type": "execute_result"
    },
    {
     "data": {
      "image/png": "[encoded data removed]",
      "text/plain": [
       "<Figure size 864x504 with 1 Axes>"
      ]
     },
     "execution_count": 50,
     "metadata": {
      "image/png": {
       "height": 424,
       "width": 703
      },
      "needs_background": "light"
     },
     "output_type": "execute_result"
    }
   ],
   "source": [
    "age_groups.plot()"
   ]
  },
  {
   "cell_type": "markdown",
   "metadata": {
    "collapsed": false
   },
   "source": [
    "* Use the default `Dataframe.plot()` method on your `age_groups` dataframe and show the results.\n",
    "\n"
   ]
  },
  {
   "cell_type": "markdown",
   "metadata": {
    "collapsed": false
   },
   "source": [
    "You should see three lines that appear to show a strong (though not linear) relationship between age and \"insufficient\" physical activity.\n",
    "\n",
    "Looking at the x-axis, it might also look as if the dataframe's plot method has worked out that the indices represent age groups on a number line. But don't be fooled!\n",
    "\n",
    "We just got lucky! As far as pandas is concerned, they are just independent categories of some sort. It just happens they were in age order in the spreadsheet.\n",
    "\n",
    "To verify this, let's see what happens when they're in a different order. Try:\n",
    "```\n",
    "age_groups2 = exercise.iloc[[0,1,2,5,4,3]]    # see what we did there? (recall numpy selection with arrays of indices)\n",
    "```\n",
    "where `exercise` is again the cleaned Table 5.\n",
    "\n",
    "Inspect the table and plot the corresponding plot."
   ]
  },
  {
   "cell_type": "code",
   "execution_count": 51,
   "metadata": {
    "collapsed": false
   },
   "outputs": [
   ],
   "source": [
    "age_groups2 = exercise.iloc[[0,1,2,5,4,3]] "
   ]
  },
  {
   "cell_type": "code",
   "execution_count": 52,
   "metadata": {
    "collapsed": false
   },
   "outputs": [
    {
     "data": {
      "text/html": [
       "<div>\n",
       "<style scoped>\n",
       "    .dataframe tbody tr th:only-of-type {\n",
       "        vertical-align: middle;\n",
       "    }\n",
       "\n",
       "    .dataframe tbody tr th {\n",
       "        vertical-align: top;\n",
       "    }\n",
       "\n",
       "    .dataframe thead th {\n",
       "        text-align: right;\n",
       "    }\n",
       "</style>\n",
       "<table border=\"1\" class=\"dataframe\">\n",
       "  <thead>\n",
       "    <tr style=\"text-align: right;\">\n",
       "      <th></th>\n",
       "      <th>Men</th>\n",
       "      <th>Women</th>\n",
       "      <th>Persons</th>\n",
       "    </tr>\n",
       "    <tr>\n",
       "      <th>Population characteristics</th>\n",
       "      <th></th>\n",
       "      <th></th>\n",
       "      <th></th>\n",
       "    </tr>\n",
       "  </thead>\n",
       "  <tbody>\n",
       "    <tr>\n",
       "      <th>18–24</th>\n",
       "      <td>45.4</td>\n",
       "      <td>50.7</td>\n",
       "      <td>48.0</td>\n",
       "    </tr>\n",
       "    <tr>\n",
       "      <th>25–34</th>\n",
       "      <td>43.9</td>\n",
       "      <td>49.0</td>\n",
       "      <td>46.5</td>\n",
       "    </tr>\n",
       "    <tr>\n",
       "      <th>35–44</th>\n",
       "      <td>53.3</td>\n",
       "      <td>53.6</td>\n",
       "      <td>53.4</td>\n",
       "    </tr>\n",
       "    <tr>\n",
       "      <th>65+</th>\n",
       "      <td>73.5</td>\n",
       "      <td>76.9</td>\n",
       "      <td>75.0</td>\n",
       "    </tr>\n",
       "    <tr>\n",
       "      <th>55–64</th>\n",
       "      <td>54.0</td>\n",
       "      <td>59.7</td>\n",
       "      <td>56.5</td>\n",
       "    </tr>\n",
       "    <tr>\n",
       "      <th>45–54</th>\n",
       "      <td>56.8</td>\n",
       "      <td>56.2</td>\n",
       "      <td>56.6</td>\n",
       "    </tr>\n",
       "  </tbody>\n",
       "</table>\n",
       "</div>"
      ],
      "text/plain": [
       "                             Men  Women  Persons\n",
       "Population characteristics                      \n",
       "18–24                       45.4   50.7     48.0\n",
       "25–34                       43.9   49.0     46.5\n",
       "35–44                       53.3   53.6     53.4\n",
       "65+                         73.5   76.9     75.0\n",
       "55–64                       54.0   59.7     56.5\n",
       "45–54                       56.8   56.2     56.6"
      ]
     },
     "execution_count": 52,
     "metadata": {
     },
     "output_type": "execute_result"
    }
   ],
   "source": [
    "age_groups2"
   ]
  },
  {
   "cell_type": "code",
   "execution_count": 53,
   "metadata": {
    "collapsed": false
   },
   "outputs": [
    {
     "data": {
      "text/plain": [
       "Men        53.3\n",
       "Women      53.6\n",
       "Persons    53.4\n",
       "Name: 35–44, dtype: float64"
      ]
     },
     "execution_count": 53,
     "metadata": {
     },
     "output_type": "execute_result"
    }
   ],
   "source": [
    "exercise.iloc [2]"
   ]
  },
  {
   "cell_type": "code",
   "execution_count": 54,
   "metadata": {
    "collapsed": false
   },
   "outputs": [
    {
     "data": {
      "text/html": [
       "<div>\n",
       "<style scoped>\n",
       "    .dataframe tbody tr th:only-of-type {\n",
       "        vertical-align: middle;\n",
       "    }\n",
       "\n",
       "    .dataframe tbody tr th {\n",
       "        vertical-align: top;\n",
       "    }\n",
       "\n",
       "    .dataframe thead th {\n",
       "        text-align: right;\n",
       "    }\n",
       "</style>\n",
       "<table border=\"1\" class=\"dataframe\">\n",
       "  <thead>\n",
       "    <tr style=\"text-align: right;\">\n",
       "      <th></th>\n",
       "      <th>Men</th>\n",
       "      <th>Women</th>\n",
       "      <th>Persons</th>\n",
       "    </tr>\n",
       "    <tr>\n",
       "      <th>Population characteristics</th>\n",
       "      <th></th>\n",
       "      <th></th>\n",
       "      <th></th>\n",
       "    </tr>\n",
       "  </thead>\n",
       "  <tbody>\n",
       "    <tr>\n",
       "      <th>35–44</th>\n",
       "      <td>53.3</td>\n",
       "      <td>53.6</td>\n",
       "      <td>53.4</td>\n",
       "    </tr>\n",
       "  </tbody>\n",
       "</table>\n",
       "</div>"
      ],
      "text/plain": [
       "                             Men  Women  Persons\n",
       "Population characteristics                      \n",
       "35–44                       53.3   53.6     53.4"
      ]
     },
     "execution_count": 54,
     "metadata": {
     },
     "output_type": "execute_result"
    }
   ],
   "source": [
    "exercise.iloc [[2]]"
   ]
  },
  {
   "cell_type": "code",
   "execution_count": 55,
   "metadata": {
    "collapsed": false
   },
   "outputs": [
    {
     "data": {
      "text/plain": [
       "<AxesSubplot:xlabel='Population characteristics'>"
      ]
     },
     "execution_count": 55,
     "metadata": {
     },
     "output_type": "execute_result"
    },
    {
     "data": {
      "image/png": "[encoded data removed]",
      "text/plain": [
       "<Figure size 864x504 with 1 Axes>"
      ]
     },
     "execution_count": 55,
     "metadata": {
      "image/png": {
       "height": 424,
       "width": 703
      },
      "needs_background": "light"
     },
     "output_type": "execute_result"
    }
   ],
   "source": [
    "age_groups2.plot()"
   ]
  },
  {
   "cell_type": "markdown",
   "metadata": {
    "collapsed": false
   },
   "source": [
    "You should see quite a different picture.\n",
    "\n",
    "In fact, it's a little misleading to plot our (categorical) age data as a line plot - the adjoining lines suggest relationships that don't exist. Better would be something like a bar chart.\n",
    "\n",
    "* Repeat your original plot, this time using a bar chart. Use the dataframe sorted on the index to ensure the age groups are in the correct order. (Would this work if you had a category over 100?)\n",
    "\n",
    "Notice how much easier it is with this kind of data (comparing more than one value per category) than using matplotlib to do the bar chart directly."
   ]
  },
  {
   "cell_type": "code",
   "execution_count": 56,
   "metadata": {
    "collapsed": false
   },
   "outputs": [
    {
     "data": {
      "text/plain": [
       "<AxesSubplot:xlabel='Population characteristics'>"
      ]
     },
     "execution_count": 56,
     "metadata": {
     },
     "output_type": "execute_result"
    },
    {
     "data": {
      "image/png": "[encoded data removed]",
      "text/plain": [
       "<Figure size 864x504 with 1 Axes>"
      ]
     },
     "execution_count": 56,
     "metadata": {
      "image/png": {
       "height": 446,
       "width": 703
      },
      "needs_background": "light"
     },
     "output_type": "execute_result"
    }
   ],
   "source": [
    "age_groups.sort_values(by='Population characteristics').plot.bar()"
   ]
  },
  {
   "cell_type": "code",
   "execution_count": 0,
   "metadata": {
    "collapsed": false
   },
   "outputs": [
   ],
   "source": [
   ]
  },
  {
   "cell_type": "code",
   "execution_count": 0,
   "metadata": {
    "collapsed": false
   },
   "outputs": [
   ],
   "source": [
   ]
  },
  {
   "cell_type": "markdown",
   "metadata": {
    "collapsed": false
   },
   "source": [
    "### Creating numerical values from the index\n",
    "\n",
    "While the previous line plot was not the best way to look for relationships, we would like to ascertain whether we can quantitatively establish a relationship between age and physical activity.\n",
    "\n",
    "To do this, we will convert the index values into numerical values and add them to our table as an extra column.\n",
    "\n",
    "The first thing we need to do is get the index. Note that the index is not a regular column of the dataframe.\n",
    "\n",
    "* Get the index using the '`index`' attribute.\n",
    "\n",
    "* Print the type of the index, the type of one of the elements of the index, and the index itself.\n",
    "\n",
    "What kind of object is the index?\n",
    "\n",
    "What kind of object is the first element of the index?\n"
   ]
  },
  {
   "cell_type": "code",
   "execution_count": 57,
   "metadata": {
    "collapsed": false
   },
   "outputs": [
    {
     "data": {
      "text/plain": [
       "Index(['18–24', '25–34', '35–44', '45–54', '55–64', '65+'], dtype='object', name='Population characteristics')"
      ]
     },
     "execution_count": 57,
     "metadata": {
     },
     "output_type": "execute_result"
    }
   ],
   "source": [
    "age_groups.index"
   ]
  },
  {
   "cell_type": "code",
   "execution_count": 58,
   "metadata": {
    "collapsed": false
   },
   "outputs": [
    {
     "data": {
      "text/plain": [
       "str"
      ]
     },
     "execution_count": 58,
     "metadata": {
     },
     "output_type": "execute_result"
    }
   ],
   "source": [
    "type(age_groups.index[0])"
   ]
  },
  {
   "cell_type": "code",
   "execution_count": 0,
   "metadata": {
    "collapsed": false
   },
   "outputs": [
   ],
   "source": [
   ]
  },
  {
   "cell_type": "code",
   "execution_count": 0,
   "metadata": {
    "collapsed": false
   },
   "outputs": [
   ],
   "source": [
   ]
  },
  {
   "cell_type": "code",
   "execution_count": 0,
   "metadata": {
    "collapsed": false
   },
   "outputs": [
   ],
   "source": [
   ]
  },
  {
   "cell_type": "markdown",
   "metadata": {
    "collapsed": false
   },
   "source": [
    "For our numerical values, we'll use the midpoint of the age ranges.\n",
    "\n",
    "For 65+ we know that the data spread will be much wider than the previous categories. For such categories we will adopt a policy of setting the 'midpoint' to 10 more than the start of the last category (75 in this case). This is highly _unsatisfactory!_ (Once again it is not clear why they have simply ignored age categories from 65 upwards - don't be responsible for this kind of ageism in your own work!)\n",
    "\n",
    "> _Q: If we had a model of population against age, how could we better compensate for this omission?_\n",
    "\n",
    "To find the midpoints we'll need to parse the age categories. This time we'll do it more elegantly - using regular expressions!"
   ]
  },
  {
   "cell_type": "markdown",
   "metadata": {
    "collapsed": false
   },
   "source": [
    "### Regular expressions\n",
    "\n",
    "We'll use a regular expression to extract the numbers so we can calculate the medians. \n",
    "\n",
    "* Import the '`re`' library, and try the following code (where `exercise` is the name of the dataframe):\n",
    "    \n",
    "```\n",
    "m = re.match('(\\d+)'+chr(8211)+'(\\d+)', exercise.index[0])\n",
    "(m.group(0), m.group(1), m.group(2))\n",
    "```\n",
    "\n",
    "You're not expected to memorise the regular expression language, but read through the [`re` library documentation](https://docs.python.org/3/library/re.html) and identify how this works and what each piece does.\n"
   ]
  },
  {
   "cell_type": "code",
   "execution_count": 59,
   "metadata": {
    "collapsed": false
   },
   "outputs": [
   ],
   "source": [
    "import re"
   ]
  },
  {
   "cell_type": "code",
   "execution_count": 60,
   "metadata": {
    "collapsed": false
   },
   "outputs": [
    {
     "data": {
      "text/plain": [
       "('18–24', '18', '24')"
      ]
     },
     "execution_count": 60,
     "metadata": {
     },
     "output_type": "execute_result"
    }
   ],
   "source": [
    "m = re.match('(\\d+)'+chr(8211)+'(\\d+)', exercise.index[0])\n",
    "(m.group(0), m.group(1), m.group(2))"
   ]
  },
  {
   "cell_type": "code",
   "execution_count": 0,
   "metadata": {
    "collapsed": false
   },
   "outputs": [
   ],
   "source": [
   ]
  },
  {
   "cell_type": "code",
   "execution_count": 0,
   "metadata": {
    "collapsed": false
   },
   "outputs": [
   ],
   "source": [
   ]
  },
  {
   "cell_type": "code",
   "execution_count": 0,
   "metadata": {
    "collapsed": false
   },
   "outputs": [
   ],
   "source": [
   ]
  },
  {
   "cell_type": "markdown",
   "metadata": {
    "collapsed": false
   },
   "source": [
    "* Try writing a regular expression that matches the \"65+\" category (and none of the other categories).\n",
    "\n",
    "_Tip: + has a special meaning in the regular expression language, so you will need to \"escape\" it to get a literal plus character._\n",
    "\n",
    "* Generalise this expression as follows:\n",
    "  * assume that the last category might be another two digit number, such as 80+\n",
    "     * match any two digits followed by '+'.\n",
    "  * assume that the last category might be any age (eg 5+ or 105+)\n",
    "    * match any one or more digits followed by a '+'.\n",
    "\n",
    "Check that all three of your regular expressions find a match on the 5th line in the index, but not on line 4."
   ]
  },
  {
   "cell_type": "code",
   "execution_count": 61,
   "metadata": {
    "collapsed": false
   },
   "outputs": [
    {
     "name": "stdout",
     "output_type": "stream",
     "text": [
      "18–24 18 24\n",
      "25–34 25 34\n",
      "35–44 35 44\n",
      "45–54 45 54\n",
      "55–64 55 64\n",
      "65+\n",
      "2007–08 2007 08\n",
      "2011–12 2011 12\n",
      "2014–15 2014 15\n"
     ]
    }
   ],
   "source": [
    "for index, line in enumerate (exercise.index):\n",
    "    m = re.match('(\\d+)'+chr(8211)+'(\\d+)',line)\n",
    "    n = re.match('(\\d*\\+)',line)\n",
    "    if m:\n",
    "        print (m.group(0),m.group(1),m.group(2))\n",
    "    elif n:\n",
    "        print (n.group(0))"
   ]
  },
  {
   "cell_type": "code",
   "execution_count": 0,
   "metadata": {
    "collapsed": false
   },
   "outputs": [
   ],
   "source": [
   ]
  },
  {
   "cell_type": "markdown",
   "metadata": {
    "collapsed": false
   },
   "source": [
    "#### Adding a new column, and pandas' `Series`\n",
    "\n",
    "One way to add a new column to our dataframe is to create the column as a `Series` and then add it using the `assign()` method.\n",
    "\n",
    "A *Series* is like a 1-dimensional version of a dataframe. You can think of each dataframe column, for example, as a series. A series shares many of the same methods as a dataframe. Have a look at the Series API.\n",
    "\n",
    "There is a second benefit to using a series - we can use its `apply()` method (like we did for dataframes in the lectures) to apply our regular expression to all the elements of the index.\n",
    "\n",
    "Look at the API for `Index` objects.\n",
    "\n",
    "* Find the method for converting an Index to a Series, read the documentation, and generate a series from the index of Table 5.\n",
    "\n",
    "Have a look at the resulting series. You should see that a series contains an index of its own (on the left), and a single column (on the right).\n",
    "\n",
    "The documentation states: \"Create a Series with both index and values equal to the index keys.\" Can you see this in your result?\n"
   ]
  },
  {
   "cell_type": "code",
   "execution_count": 62,
   "metadata": {
    "collapsed": false
   },
   "outputs": [
    {
     "data": {
      "text/plain": [
       "Population characteristics\n",
       "18–24                                            18–24\n",
       "25–34                                            25–34\n",
       "35–44                                            35–44\n",
       "45–54                                            45–54\n",
       "55–64                                            55–64\n",
       "65+                                                65+\n",
       "All persons (18–64)                All persons (18–64)\n",
       "All persons (18+)                    All persons (18+)\n",
       "Major cities                              Major cities\n",
       "Inner regional                          Inner regional\n",
       "Outer regional and remote    Outer regional and remote\n",
       "Q1 (most disadvantaged)        Q1 (most disadvantaged)\n",
       "Q2                                                  Q2\n",
       "Q3                                                  Q3\n",
       "Q4                                                  Q4\n",
       "Q5 (least disadvantaged)      Q5 (least disadvantaged)\n",
       "2007–08                                        2007–08\n",
       "2011–12                                        2011–12\n",
       "2014–15                                        2014–15\n",
       "Name: Population characteristics, dtype: object"
      ]
     },
     "execution_count": 62,
     "metadata": {
     },
     "output_type": "execute_result"
    }
   ],
   "source": [
    "mySeries = exercise.index.to_series()\n",
    "mySeries"
   ]
  },
  {
   "cell_type": "markdown",
   "metadata": {
    "collapsed": false
   },
   "source": [
    "The following function converts (or \"maps\") an age category to a float representing the midpoint (or 10 higher, for an end range). Otherwise it returns NaN. Follow through the code to understand how it works."
   ]
  },
  {
   "cell_type": "code",
   "execution_count": 63,
   "metadata": {
    "collapsed": false,
    "deletable": false,
    "editable": false,
    "nbgrader": {
     "grade": false,
     "grade_id": "a24e3f",
     "locked": true,
     "schema_version": 3,
     "solution": false,
     "task": false
    }
   },
   "outputs": [
    {
     "name": "stdout",
     "output_type": "stream",
     "text": [
      "21.0\n",
      "75\n",
      "nan\n"
     ]
    }
   ],
   "source": [
    "def get_mid(category):\n",
    "    thestring = str(category)                  # safety cast in case the category is passed as the wrong type\n",
    "    age_range = re.fullmatch('(\\d+)'+chr(8211)+'(\\d+)', thestring)\n",
    "    end_range = re.fullmatch('(\\d+)\\+', thestring)\n",
    "    if age_range:\n",
    "        return np.mean([int(age_range.group(1)), int(age_range.group(2))])\n",
    "    elif end_range:\n",
    "        return int(end_range.group(1))+10\n",
    "    else:\n",
    "        return np.NaN\n",
    "\n",
    "# Do the following tests give the right answer?\n",
    "print(get_mid(exercise.index[0]))\n",
    "print(get_mid(exercise.index[5]))\n",
    "print(get_mid(exercise.index[6]))"
   ]
  },
  {
   "cell_type": "markdown",
   "metadata": {
    "collapsed": false
   },
   "source": [
    "* Use Series' `apply()` method, along with the tools above, to create new series called 'mids' that contains the midpoints of the age categories, and `NaN` otherwise. (~1 line of code)\n",
    "\n",
    "Check the output on the exercise data, and its type."
   ]
  },
  {
   "cell_type": "code",
   "execution_count": 64,
   "metadata": {
    "collapsed": false
   },
   "outputs": [
   ],
   "source": [
    "mids = exercise.index.to_series().apply(get_mid)"
   ]
  },
  {
   "cell_type": "code",
   "execution_count": 65,
   "metadata": {
    "collapsed": false
   },
   "outputs": [
    {
     "data": {
      "text/plain": [
       "Population characteristics\n",
       "18–24                          21.0\n",
       "25–34                          29.5\n",
       "35–44                          39.5\n",
       "45–54                          49.5\n",
       "55–64                          59.5\n",
       "65+                            75.0\n",
       "All persons (18–64)             NaN\n",
       "All persons (18+)               NaN\n",
       "Major cities                    NaN\n",
       "Inner regional                  NaN\n",
       "Outer regional and remote       NaN\n",
       "Q1 (most disadvantaged)         NaN\n",
       "Q2                              NaN\n",
       "Q3                              NaN\n",
       "Q4                              NaN\n",
       "Q5 (least disadvantaged)        NaN\n",
       "2007–08                      1007.5\n",
       "2011–12                      1011.5\n",
       "2014–15                      1014.5\n",
       "Name: Population characteristics, dtype: float64"
      ]
     },
     "execution_count": 65,
     "metadata": {
     },
     "output_type": "execute_result"
    }
   ],
   "source": [
    "mids"
   ]
  },
  {
   "cell_type": "code",
   "execution_count": 0,
   "metadata": {
    "collapsed": false
   },
   "outputs": [
   ],
   "source": [
   ]
  },
  {
   "cell_type": "markdown",
   "metadata": {
    "collapsed": false
   },
   "source": [
    "Why does our method also return values for the time series data at the end?\n",
    "\n",
    "We could refine our regular expression to exclude those, however our function is correctly doing what we asked of it (finding the midpoints)  so we will leave them in. \n",
    "\n",
    "It is better practice not to confuse or overburden the role of our function with two quite different tasks: in this case, (1) finding the midpoint of between integers separated by a dash; and (2) deciding which rows of the dataframe we are interested in working with. We will address the latter later.\n",
    "\n",
    "Finally we can add the column. Check the API for `assign()` and see whether it returns a _copy_ of the dataframe, or modifies the dataframe _in place_. This will determine how you call `assign()`.\n",
    "\n",
    "* Use `assign(Midpoints = mids)` to create a dataframe with a fourth column named `Midpoints`.\n",
    "\n",
    "Inspect the resulting dataframe. It should now start like this:\n",
    "```\n",
    "                             Men Women  Persons  Midpoints\n",
    "Population characteristics                                \n",
    "18–24                       45.4  50.7     48.0       21.0\n",
    "25–34                       43.9    49     46.5       29.5\n",
    "35–44                       53.3  53.6     53.4       39.5\n",
    "45–54                       56.8  56.2     56.6       49.5\n",
    "55–64                         54  59.7     56.5       59.5\n",
    "65+                         73.5  76.9     75.0       75.0\n",
    "All persons (18–64)         50.6  53.7     52.2        NaN\n",
    "All persons (18+)              —     —     56.4        NaN\n",
    "...\n",
    "```"
   ]
  },
  {
   "cell_type": "code",
   "execution_count": 66,
   "metadata": {
    "collapsed": false
   },
   "outputs": [
    {
     "data": {
      "text/html": [
       "<div>\n",
       "<style scoped>\n",
       "    .dataframe tbody tr th:only-of-type {\n",
       "        vertical-align: middle;\n",
       "    }\n",
       "\n",
       "    .dataframe tbody tr th {\n",
       "        vertical-align: top;\n",
       "    }\n",
       "\n",
       "    .dataframe thead th {\n",
       "        text-align: right;\n",
       "    }\n",
       "</style>\n",
       "<table border=\"1\" class=\"dataframe\">\n",
       "  <thead>\n",
       "    <tr style=\"text-align: right;\">\n",
       "      <th></th>\n",
       "      <th>Men</th>\n",
       "      <th>Women</th>\n",
       "      <th>Persons</th>\n",
       "      <th>Midpoints</th>\n",
       "    </tr>\n",
       "    <tr>\n",
       "      <th>Population characteristics</th>\n",
       "      <th></th>\n",
       "      <th></th>\n",
       "      <th></th>\n",
       "      <th></th>\n",
       "    </tr>\n",
       "  </thead>\n",
       "  <tbody>\n",
       "    <tr>\n",
       "      <th>18–24</th>\n",
       "      <td>45.4</td>\n",
       "      <td>50.7</td>\n",
       "      <td>48.0</td>\n",
       "      <td>21.0</td>\n",
       "    </tr>\n",
       "    <tr>\n",
       "      <th>25–34</th>\n",
       "      <td>43.9</td>\n",
       "      <td>49.0</td>\n",
       "      <td>46.5</td>\n",
       "      <td>29.5</td>\n",
       "    </tr>\n",
       "    <tr>\n",
       "      <th>35–44</th>\n",
       "      <td>53.3</td>\n",
       "      <td>53.6</td>\n",
       "      <td>53.4</td>\n",
       "      <td>39.5</td>\n",
       "    </tr>\n",
       "    <tr>\n",
       "      <th>45–54</th>\n",
       "      <td>56.8</td>\n",
       "      <td>56.2</td>\n",
       "      <td>56.6</td>\n",
       "      <td>49.5</td>\n",
       "    </tr>\n",
       "    <tr>\n",
       "      <th>55–64</th>\n",
       "      <td>54.0</td>\n",
       "      <td>59.7</td>\n",
       "      <td>56.5</td>\n",
       "      <td>59.5</td>\n",
       "    </tr>\n",
       "    <tr>\n",
       "      <th>65+</th>\n",
       "      <td>73.5</td>\n",
       "      <td>76.9</td>\n",
       "      <td>75.0</td>\n",
       "      <td>75.0</td>\n",
       "    </tr>\n",
       "    <tr>\n",
       "      <th>All persons (18–64)</th>\n",
       "      <td>50.6</td>\n",
       "      <td>53.7</td>\n",
       "      <td>52.2</td>\n",
       "      <td>NaN</td>\n",
       "    </tr>\n",
       "    <tr>\n",
       "      <th>All persons (18+)</th>\n",
       "      <td>NaN</td>\n",
       "      <td>NaN</td>\n",
       "      <td>56.4</td>\n",
       "      <td>NaN</td>\n",
       "    </tr>\n",
       "    <tr>\n",
       "      <th>Major cities</th>\n",
       "      <td>47.0</td>\n",
       "      <td>52.4</td>\n",
       "      <td>49.7</td>\n",
       "      <td>NaN</td>\n",
       "    </tr>\n",
       "    <tr>\n",
       "      <th>Inner regional</th>\n",
       "      <td>59.1</td>\n",
       "      <td>56.7</td>\n",
       "      <td>57.9</td>\n",
       "      <td>NaN</td>\n",
       "    </tr>\n",
       "    <tr>\n",
       "      <th>Outer regional and remote</th>\n",
       "      <td>63.9</td>\n",
       "      <td>57.4</td>\n",
       "      <td>60.3</td>\n",
       "      <td>NaN</td>\n",
       "    </tr>\n",
       "    <tr>\n",
       "      <th>Q1 (most disadvantaged)</th>\n",
       "      <td>59.6</td>\n",
       "      <td>66.1</td>\n",
       "      <td>62.6</td>\n",
       "      <td>NaN</td>\n",
       "    </tr>\n",
       "    <tr>\n",
       "      <th>Q2</th>\n",
       "      <td>59.0</td>\n",
       "      <td>54.1</td>\n",
       "      <td>56.7</td>\n",
       "      <td>NaN</td>\n",
       "    </tr>\n",
       "    <tr>\n",
       "      <th>Q3</th>\n",
       "      <td>55.4</td>\n",
       "      <td>55.5</td>\n",
       "      <td>55.5</td>\n",
       "      <td>NaN</td>\n",
       "    </tr>\n",
       "    <tr>\n",
       "      <th>Q4</th>\n",
       "      <td>44.4</td>\n",
       "      <td>51.0</td>\n",
       "      <td>47.3</td>\n",
       "      <td>NaN</td>\n",
       "    </tr>\n",
       "    <tr>\n",
       "      <th>Q5 (least disadvantaged)</th>\n",
       "      <td>37.7</td>\n",
       "      <td>42.6</td>\n",
       "      <td>40.0</td>\n",
       "      <td>NaN</td>\n",
       "    </tr>\n",
       "    <tr>\n",
       "      <th>2007–08</th>\n",
       "      <td>NaN</td>\n",
       "      <td>NaN</td>\n",
       "      <td>49.1</td>\n",
       "      <td>1007.5</td>\n",
       "    </tr>\n",
       "    <tr>\n",
       "      <th>2011–12</th>\n",
       "      <td>NaN</td>\n",
       "      <td>NaN</td>\n",
       "      <td>45.3</td>\n",
       "      <td>1011.5</td>\n",
       "    </tr>\n",
       "    <tr>\n",
       "      <th>2014–15</th>\n",
       "      <td>NaN</td>\n",
       "      <td>NaN</td>\n",
       "      <td>44.3</td>\n",
       "      <td>1014.5</td>\n",
       "    </tr>\n",
       "  </tbody>\n",
       "</table>\n",
       "</div>"
      ],
      "text/plain": [
       "                             Men  Women  Persons  Midpoints\n",
       "Population characteristics                                 \n",
       "18–24                       45.4   50.7     48.0       21.0\n",
       "25–34                       43.9   49.0     46.5       29.5\n",
       "35–44                       53.3   53.6     53.4       39.5\n",
       "45–54                       56.8   56.2     56.6       49.5\n",
       "55–64                       54.0   59.7     56.5       59.5\n",
       "65+                         73.5   76.9     75.0       75.0\n",
       "All persons (18–64)         50.6   53.7     52.2        NaN\n",
       "All persons (18+)            NaN    NaN     56.4        NaN\n",
       "Major cities                47.0   52.4     49.7        NaN\n",
       "Inner regional              59.1   56.7     57.9        NaN\n",
       "Outer regional and remote   63.9   57.4     60.3        NaN\n",
       "Q1 (most disadvantaged)     59.6   66.1     62.6        NaN\n",
       "Q2                          59.0   54.1     56.7        NaN\n",
       "Q3                          55.4   55.5     55.5        NaN\n",
       "Q4                          44.4   51.0     47.3        NaN\n",
       "Q5 (least disadvantaged)    37.7   42.6     40.0        NaN\n",
       "2007–08                      NaN    NaN     49.1     1007.5\n",
       "2011–12                      NaN    NaN     45.3     1011.5\n",
       "2014–15                      NaN    NaN     44.3     1014.5"
      ]
     },
     "execution_count": 66,
     "metadata": {
     },
     "output_type": "execute_result"
    }
   ],
   "source": [
    "new_exercise = exercise.assign(Midpoints = mids)\n",
    "new_exercise"
   ]
  },
  {
   "cell_type": "markdown",
   "metadata": {
    "collapsed": false
   },
   "source": [
    "### Filtering\n",
    "\n",
    "Dataframe's `filter()` method allows us to get a subset of the dataframe using a regular expression on the index.\n",
    "\n",
    "* Use `filter()` on the dataframe index to extract a new table, `ages`, that contains only the age ranges (from 18-24 through to 65+ in the case of Table 5).\n",
    "\n",
    "Check that your table is correct. It should now contain:\n",
    "```\n",
    "\n",
    "                             Men Women  Persons  Midpoints\n",
    "Population characteristics                                \n",
    "18–24                       45.4  50.7     48.0       21.0\n",
    "25–34                       43.9    49     46.5       29.5\n",
    "35–44                       53.3  53.6     53.4       39.5\n",
    "45–54                       56.8  56.2     56.6       49.5\n",
    "55–64                         54  59.7     56.5       59.5\n",
    "65+                         73.5  76.9     75.0       75.0\n",
    "```\n",
    "\n",
    "*Hint: You may find the `re` `^` and `|` operators useful for this task.*\n"
   ]
  },
  {
   "cell_type": "code",
   "execution_count": 67,
   "metadata": {
    "collapsed": false
   },
   "outputs": [
    {
     "data": {
      "text/html": [
       "<div>\n",
       "<style scoped>\n",
       "    .dataframe tbody tr th:only-of-type {\n",
       "        vertical-align: middle;\n",
       "    }\n",
       "\n",
       "    .dataframe tbody tr th {\n",
       "        vertical-align: top;\n",
       "    }\n",
       "\n",
       "    .dataframe thead th {\n",
       "        text-align: right;\n",
       "    }\n",
       "</style>\n",
       "<table border=\"1\" class=\"dataframe\">\n",
       "  <thead>\n",
       "    <tr style=\"text-align: right;\">\n",
       "      <th></th>\n",
       "      <th>Men</th>\n",
       "      <th>Women</th>\n",
       "      <th>Persons</th>\n",
       "      <th>Midpoints</th>\n",
       "    </tr>\n",
       "    <tr>\n",
       "      <th>Population characteristics</th>\n",
       "      <th></th>\n",
       "      <th></th>\n",
       "      <th></th>\n",
       "      <th></th>\n",
       "    </tr>\n",
       "  </thead>\n",
       "  <tbody>\n",
       "    <tr>\n",
       "      <th>18–24</th>\n",
       "      <td>45.4</td>\n",
       "      <td>50.7</td>\n",
       "      <td>48.0</td>\n",
       "      <td>21.0</td>\n",
       "    </tr>\n",
       "    <tr>\n",
       "      <th>25–34</th>\n",
       "      <td>43.9</td>\n",
       "      <td>49.0</td>\n",
       "      <td>46.5</td>\n",
       "      <td>29.5</td>\n",
       "    </tr>\n",
       "    <tr>\n",
       "      <th>35–44</th>\n",
       "      <td>53.3</td>\n",
       "      <td>53.6</td>\n",
       "      <td>53.4</td>\n",
       "      <td>39.5</td>\n",
       "    </tr>\n",
       "    <tr>\n",
       "      <th>45–54</th>\n",
       "      <td>56.8</td>\n",
       "      <td>56.2</td>\n",
       "      <td>56.6</td>\n",
       "      <td>49.5</td>\n",
       "    </tr>\n",
       "    <tr>\n",
       "      <th>55–64</th>\n",
       "      <td>54.0</td>\n",
       "      <td>59.7</td>\n",
       "      <td>56.5</td>\n",
       "      <td>59.5</td>\n",
       "    </tr>\n",
       "    <tr>\n",
       "      <th>65+</th>\n",
       "      <td>73.5</td>\n",
       "      <td>76.9</td>\n",
       "      <td>75.0</td>\n",
       "      <td>75.0</td>\n",
       "    </tr>\n",
       "  </tbody>\n",
       "</table>\n",
       "</div>"
      ],
      "text/plain": [
       "                             Men  Women  Persons  Midpoints\n",
       "Population characteristics                                 \n",
       "18–24                       45.4   50.7     48.0       21.0\n",
       "25–34                       43.9   49.0     46.5       29.5\n",
       "35–44                       53.3   53.6     53.4       39.5\n",
       "45–54                       56.8   56.2     56.6       49.5\n",
       "55–64                       54.0   59.7     56.5       59.5\n",
       "65+                         73.5   76.9     75.0       75.0"
      ]
     },
     "execution_count": 67,
     "metadata": {
     },
     "output_type": "execute_result"
    }
   ],
   "source": [
    "ages = new_exercise.filter(regex= \"^(\\d\\d\" + chr(8211) +\")|(^\\d\\d\\+)\" , axis=0 )\n",
    "ages\n",
    "\n",
    "#+chr(8211)"
   ]
  },
  {
   "cell_type": "markdown",
   "metadata": {
    "collapsed": false
   },
   "source": [
    "### Visualising relationships\n",
    "\n",
    "Now that we have numerical data for age groups and physical activity, we can again look for a relationship.\n",
    "\n",
    "* Use DataFrame's scatter plot with your `ages` table to plot Persons (y) against the age midpoints (x).\n",
    "\n",
    "(Note the x-ticks do not need to - and shouldn't - match up with the sample points.)"
   ]
  },
  {
   "cell_type": "code",
   "execution_count": 68,
   "metadata": {
    "collapsed": false
   },
   "outputs": [
    {
     "data": {
      "text/plain": [
       "<AxesSubplot:xlabel='Midpoints', ylabel='Persons'>"
      ]
     },
     "execution_count": 68,
     "metadata": {
     },
     "output_type": "execute_result"
    },
    {
     "data": {
      "image/png": "[encoded data removed]",
      "text/plain": [
       "<Figure size 864x504 with 1 Axes>"
      ]
     },
     "execution_count": 68,
     "metadata": {
      "image/png": {
       "height": 424,
       "width": 717
      },
      "needs_background": "light"
     },
     "output_type": "execute_result"
    }
   ],
   "source": [
    "ages.plot.scatter(y = \"Persons\", x = \"Midpoints\")"
   ]
  },
  {
   "cell_type": "code",
   "execution_count": 70,
   "metadata": {
    "collapsed": false
   },
   "outputs": [
    {
     "data": {
      "text/plain": [
       "<AxesSubplot:xlabel='Midpoints'>"
      ]
     },
     "execution_count": 70,
     "metadata": {
     },
     "output_type": "execute_result"
    },
    {
     "data": {
      "image/png": "[encoded data removed]",
      "text/plain": [
       "<Figure size 864x504 with 1 Axes>"
      ]
     },
     "execution_count": 70,
     "metadata": {
      "image/png": {
       "height": 424,
       "width": 703
      },
      "needs_background": "light"
     },
     "output_type": "execute_result"
    }
   ],
   "source": [
    "ages.plot(y = \"Persons\", x = \"Midpoints\")\n"
   ]
  },
  {
   "cell_type": "markdown",
   "metadata": {
    "collapsed": false
   },
   "source": [
    "Does it look like there is a relationship?\n",
    "\n",
    "* Repeat the plot, this time with a line plot."
   ]
  },
  {
   "cell_type": "markdown",
   "metadata": {
    "collapsed": false
   },
   "source": [
    "### Correlation\n",
    "\n",
    "The most commonly used correlation is Pearson's correlation. A correlation coefficient nearing +1 indicates a very strong correlation. A correlation nearing -1 indicates a very strong inverse correlation. A correlation coefficient near zero suggests little or no correlation.\n",
    "\n",
    "To make life easy, dataframes and series include some elementary statistics methods.\n",
    "\n",
    "DataFrame's `corr()` method produces a correlation matrix of all numerical columns using Pearson's correlation by default.\n",
    "\n",
    "* Calculate the correlation coefficient matrix for your `ages` table.\n",
    "\n",
    "What is the correlation coefficient between Midpoints and Persons? How would you express your conclusion from this analysis)?"
   ]
  },
  {
   "cell_type": "code",
   "execution_count": 43,
   "metadata": {
    "collapsed": false
   },
   "outputs": [
    {
     "data": {
      "text/html": [
       "<div>\n",
       "<style scoped>\n",
       "    .dataframe tbody tr th:only-of-type {\n",
       "        vertical-align: middle;\n",
       "    }\n",
       "\n",
       "    .dataframe tbody tr th {\n",
       "        vertical-align: top;\n",
       "    }\n",
       "\n",
       "    .dataframe thead th {\n",
       "        text-align: right;\n",
       "    }\n",
       "</style>\n",
       "<table border=\"1\" class=\"dataframe\">\n",
       "  <thead>\n",
       "    <tr style=\"text-align: right;\">\n",
       "      <th></th>\n",
       "      <th>Men</th>\n",
       "      <th>Women</th>\n",
       "      <th>Persons</th>\n",
       "      <th>Midpoints</th>\n",
       "    </tr>\n",
       "  </thead>\n",
       "  <tbody>\n",
       "    <tr>\n",
       "      <th>Men</th>\n",
       "      <td>1.000000</td>\n",
       "      <td>0.966485</td>\n",
       "      <td>0.993077</td>\n",
       "      <td>0.912776</td>\n",
       "    </tr>\n",
       "    <tr>\n",
       "      <th>Women</th>\n",
       "      <td>0.966485</td>\n",
       "      <td>1.000000</td>\n",
       "      <td>0.989827</td>\n",
       "      <td>0.914830</td>\n",
       "    </tr>\n",
       "    <tr>\n",
       "      <th>Persons</th>\n",
       "      <td>0.993077</td>\n",
       "      <td>0.989827</td>\n",
       "      <td>1.000000</td>\n",
       "      <td>0.918991</td>\n",
       "    </tr>\n",
       "    <tr>\n",
       "      <th>Midpoints</th>\n",
       "      <td>0.912776</td>\n",
       "      <td>0.914830</td>\n",
       "      <td>0.918991</td>\n",
       "      <td>1.000000</td>\n",
       "    </tr>\n",
       "  </tbody>\n",
       "</table>\n",
       "</div>"
      ],
      "text/plain": [
       "                Men     Women   Persons  Midpoints\n",
       "Men        1.000000  0.966485  0.993077   0.912776\n",
       "Women      0.966485  1.000000  0.989827   0.914830\n",
       "Persons    0.993077  0.989827  1.000000   0.918991\n",
       "Midpoints  0.912776  0.914830  0.918991   1.000000"
      ]
     },
     "execution_count": 43,
     "metadata": {
     },
     "output_type": "execute_result"
    }
   ],
   "source": [
    "ages.corr()"
   ]
  },
  {
   "cell_type": "code",
   "execution_count": 0,
   "metadata": {
    "collapsed": false
   },
   "outputs": [
   ],
   "source": [
   ]
  },
  {
   "cell_type": "code",
   "execution_count": 0,
   "metadata": {
    "collapsed": false
   },
   "outputs": [
   ],
   "source": [
    "\n"
   ]
  },
  {
   "cell_type": "code",
   "execution_count": 0,
   "metadata": {
    "collapsed": false
   },
   "outputs": [
   ],
   "source": [
   ]
  },
  {
   "cell_type": "code",
   "execution_count": 0,
   "metadata": {
    "collapsed": false
   },
   "outputs": [
   ],
   "source": [
   ]
  },
  {
   "cell_type": "code",
   "execution_count": 0,
   "metadata": {
    "collapsed": false
   },
   "outputs": [
   ],
   "source": [
   ]
  },
  {
   "cell_type": "markdown",
   "metadata": {
    "collapsed": false
   },
   "source": [
    "### Q2. Putting it all together [Bonus 2 lab marks]\n",
    "\n",
    "* Write a function `age_correlation(tablenum, quiet=False)` which:\n",
    "  * extracts the clean data for Table `tablenum`\n",
    "  * adds a column with \"midpoints\" for the year ranges (as specified above)\n",
    "  * filters a new table with the age-range rows only\n",
    "  * generates the (Pearson) correlations for the table\n",
    "  * returns the correlation between age and Persons\n",
    "\n",
    "* If `quiet=False` then the function should also produce a \"report\" in which it:\n",
    "  * prints an appropriate header for the report (generated from the Excel sheet name)\n",
    "  * prints the table with the age-range data\n",
    "  * shows a line plot for Persons, Women and Men against age (using age midpoints, not categories), with appropriate title and axis labels\n",
    "  * prints the correlation matrix\n",
    "  \n",
    "Your function should work correctly for any of the tables from Table 3 to Table 6.\n",
    "\n",
    "The report for Table 5 should look like this:\n",
    "```\n",
    "Risk factor: Physical activity\n",
    "\n",
    "                             Men  Women  Persons  Midpoints\n",
    "Population characteristics                                 \n",
    "18–24                       45.4   50.7     48.0       21.0\n",
    "25–34                       43.9   49.0     46.5       29.5\n",
    "35–44                       53.3   53.6     53.4       39.5\n",
    "45–54                       56.8   56.2     56.6       49.5\n",
    "55–64                       54.0   59.7     56.5       59.5\n",
    "65+                         73.5   76.9     75.0       75.0\n",
    "```\n",
    "\n",
    "<div>\n",
    "    <img src=\"Physical activity.png\" width=600>\n",
    "\n",
    "</div>\n",
    "\n",
    "```\n",
    "Correlations\n",
    "                Men     Women   Persons  Midpoints\n",
    "Men        1.000000  0.966485  0.993077   0.912776\n",
    "Women      0.966485  1.000000  0.989827   0.914830\n",
    "Persons    0.993077  0.989827  1.000000   0.918991\n",
    "Midpoints  0.912776  0.914830  0.918991   1.000000\n",
    "```"
   ]
  },
  {
   "cell_type": "code",
   "execution_count": 44,
   "metadata": {
    "collapsed": false
   },
   "outputs": [
   ],
   "source": [
    "import matplotlib.pyplot as plt"
   ]
  },
  {
   "cell_type": "code",
   "execution_count": 47,
   "metadata": {
    "collapsed": false,
    "deletable": false,
    "nbgrader": {
     "cell_type": "code",
     "checksum": "83f0226b21a4550e6b6b66af585136e2",
     "grade": false,
     "grade_id": "age_correlation_q",
     "locked": false,
     "schema_version": 3,
     "solution": true,
     "task": false
    }
   },
   "outputs": [
   ],
   "source": [
    "def age_correlation (tablenum, quiet=False):\n",
    "    #from IPython.display import display\n",
    "    myfile = load_and_clean(tablenum)\n",
    "    mids = myfile.index.to_series().apply(get_mid)\n",
    "    newfile = myfile.assign(Midpoints = mids).filter(regex= \"^(\\d\\d\" + chr(8211) +\")|(^\\d\\d\\+)\", axis=0 )\n",
    "    corr = newfile.corr()\n",
    "    if quiet == False:\n",
    "        print(\"Risk factor: \" + TABLES[tablenum].partition(\"_\")[2])\n",
    "        print(newfile)\n",
    "        newfile.sort_values(by='Midpoints').set_index(\"Midpoints\").plot(title=TABLES[tablenum].partition(\"_\")[2],xlabel='Age', ylabel='Percentage at risk')\n",
    "        plt.show()\n",
    "        print(\"Correlation\")\n",
    "        print(corr)\n",
    "    return corr.loc[\"Midpoints\",\"Persons\"]"
   ]
  },
  {
   "cell_type": "code",
   "execution_count": 48,
   "metadata": {
    "collapsed": false,
    "deletable": false,
    "editable": false,
    "nbgrader": {
     "grade": true,
     "grade_id": "age_correlation_1",
     "locked": true,
     "points": 1,
     "schema_version": 3,
     "solution": false,
     "task": false
    }
   },
   "outputs": [
    {
     "name": "stdout",
     "output_type": "stream",
     "text": [
      "Risk factor: Dyslipidaemia\n",
      "                             Men  Women  Persons  Midpoints\n",
      "Population characteristics                                 \n",
      "18–24                       30.9   36.3     33.6       21.0\n",
      "25–34                       51.7   51.2     51.5       29.5\n",
      "35–44                       69.1   50.0     59.2       39.5\n",
      "45–54                       73.8   68.2     70.9       49.5\n",
      "55–64                       74.8   83.0     78.9       59.5\n",
      "65–74                       78.3   83.5     81.0       69.5\n",
      "75+                         73.9   80.8     77.7       85.0\n"
     ]
    },
    {
     "data": {
      "image/png": "[encoded data removed]",
      "text/plain": [
       "<Figure size 864x504 with 1 Axes>"
      ]
     },
     "execution_count": 48,
     "metadata": {
      "image/png": {
       "height": 440,
       "width": 717
      },
      "needs_background": "light"
     },
     "output_type": "execute_result"
    },
    {
     "name": "stdout",
     "output_type": "stream",
     "text": [
      "Correlation\n",
      "                Men     Women   Persons  Midpoints\n",
      "Men        1.000000  0.860321  0.958206   0.803345\n",
      "Women      0.860321  1.000000  0.970156   0.914921\n",
      "Persons    0.958206  0.970156  1.000000   0.897359\n",
      "Midpoints  0.803345  0.914921  0.897359   1.000000\n",
      "So far, so good. Please continue with your own testing.\n"
     ]
    }
   ],
   "source": [
    "from nose.tools import assert_equal, assert_true\n",
    "assert_true(np.isclose(age_correlation(5, quiet=True), 0.9189906028438024))\n",
    "assert_true(np.isclose(age_correlation(6), 0.8973587216790504))\n",
    "print(\"So far, so good. Please continue with your own testing.\")"
   ]
  },
  {
   "cell_type": "code",
   "execution_count": 0,
   "metadata": {
    "collapsed": false,
    "deletable": false,
    "editable": false,
    "nbgrader": {
     "grade": true,
     "grade_id": "age_correlation_2",
     "locked": true,
     "points": 1,
     "schema_version": 3,
     "solution": false,
     "task": false
    }
   },
   "outputs": [
   ],
   "source": [
    "# Marker use only"
   ]
  },
  {
   "cell_type": "markdown",
   "metadata": {
    "collapsed": false
   },
   "source": [
    "Out of Alcohol, Smoking, Physical Activity and Dyslipidaemia risks, which would you say has:\n",
    "* a strong correlation with age?\n",
    "* a moderate correlation with age?\n",
    "* a strong negative correlation with age?\n",
    "* a moderate negative correlation with age?\n",
    "* little or no correlation with age?\n"
   ]
  },
  {
   "cell_type": "markdown",
   "metadata": {
    "collapsed": false
   },
   "source": [
    "## More Practice!\n",
    "\n",
    "Look for correlations between socioeconomic status and each of the risk factors.\n",
    "\n",
    "Compare these with the age correlations. Do you find anything surprising?\n",
    "\n"
   ]
  },
  {
   "cell_type": "code",
   "execution_count": 0,
   "metadata": {
    "collapsed": false
   },
   "outputs": [
   ],
   "source": [
   ]
  },
  {
   "cell_type": "markdown",
   "metadata": {
    "collapsed": false
   },
   "source": [
    "## Congratulations!! 🏆\n",
    "\n",
    "You have now worked through the essential tools to _**do** data science!_"
   ]
  },
  {
   "cell_type": "markdown",
   "metadata": {
    "collapsed": false
   },
   "source": [
    "&copy; Cara MacNish"
   ]
  }
 ],
 "metadata": {
  "kernelspec": {
   "display_name": "Python 3 (system-wide)",
   "language": "python",
   "metadata": {
    "cocalc": {
     "description": "Python 3 programming language",
     "priority": 100,
     "url": "https://www.python.org/"
    }
   },
   "name": "python3",
   "resource_dir": "/ext/jupyter/kernels/python3"
  },
  "language_info": {
   "codemirror_mode": {
    "name": "ipython",
    "version": 3
   },
   "file_extension": ".py",
   "mimetype": "text/x-python",
   "name": "python",
   "nbconvert_exporter": "python",
   "pygments_lexer": "ipython3",
   "version": "3.8.10"
  },
  "nbgrader": {
   "__altered": false,
   "__hash": -335098374,
   "_root": {
    "entries": [
     [
      "cocalc_minimal_stubs",
      false
     ]
    ],
    "ownerID": {
    }
   },
   "cocalc_minimal_stubs": false,
   "size": 1
  }
 },
 "nbformat": 4,
 "nbformat_minor": 4
}